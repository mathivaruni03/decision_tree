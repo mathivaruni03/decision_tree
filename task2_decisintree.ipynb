{
 "cells": [
  {
   "cell_type": "code",
   "execution_count": 25,
   "id": "10464050-c3ff-4d68-acaa-847bb7d4ecfb",
   "metadata": {},
   "outputs": [
    {
     "name": "stdout",
     "output_type": "stream",
     "text": [
      "Predicted Species: Iris-setosa\n"
     ]
    }
   ],
   "source": [
    "import pandas as pd\n",
    "\n",
    "from sklearn.model_selection import train_test_split\n",
    "from sklearn.tree import DecisionTreeClassifier\n",
    " \n",
    "\n",
    "# Load the dataset\n",
    "#data = pd.read_csv(\"your downloaded dataset location \") \n",
    "file_path = r\"D:\\Users\\sf22\\data4_19.csv\" # Update the correct file path if needed\n",
    "df = pd.read_csv(file_path)\n",
    "df.columns=[\"sepal_length\",\"sepal_width\",\"petal_length\",\"petal_width\",\"class\"]\n",
    " \n",
    "\n",
    "# Split data into features (X) and target (y)\n",
    "X = df.iloc[:, :-1] # First four columns are features\n",
    "y = df.iloc[:, -1] # Last column is the target class\n",
    " \n",
    "\n",
    "# Split into training and testing sets (80% train, 20% test)\n",
    "X_train, X_test, y_train, y_test = train_test_split(X, y, test_size=0.2, random_state=42)\n",
    " \n",
    "\n",
    "# Train the Decision Tree model\n",
    "clf = DecisionTreeClassifier()\n",
    "clf.fit(X_train, y_train)\n",
    " \n",
    "\n",
    "# Predict species for the new flower\n",
    "new_flower = pd.DataFrame([[5.2, 3.1, 1.4, 0.2]], columns=X.columns)\n",
    "predicted_species = clf.predict(new_flower)\n",
    " \n",
    "\n",
    "# Output the prediction\n",
    "print(\"Predicted Species:\", predicted_species[0])"
   ]
  },
  {
   "cell_type": "code",
   "execution_count": null,
   "id": "4bf3945f-6f2d-4fb0-8e93-3e343bc67bc1",
   "metadata": {},
   "outputs": [],
   "source": []
  },
  {
   "cell_type": "code",
   "execution_count": null,
   "id": "4d8d3622-07aa-4d5b-a0de-3c6c4a58450d",
   "metadata": {},
   "outputs": [],
   "source": []
  },
  {
   "cell_type": "code",
   "execution_count": null,
   "id": "6d61a743-7717-4352-a3dc-12f12297c137",
   "metadata": {},
   "outputs": [],
   "source": []
  },
  {
   "cell_type": "code",
   "execution_count": null,
   "id": "e0ef4a03-305f-4160-8358-74fdee6a99f4",
   "metadata": {},
   "outputs": [],
   "source": []
  }
 ],
 "metadata": {
  "kernelspec": {
   "display_name": "Python [conda env:base] *",
   "language": "python",
   "name": "conda-base-py"
  },
  "language_info": {
   "codemirror_mode": {
    "name": "ipython",
    "version": 3
   },
   "file_extension": ".py",
   "mimetype": "text/x-python",
   "name": "python",
   "nbconvert_exporter": "python",
   "pygments_lexer": "ipython3",
   "version": "3.12.7"
  }
 },
 "nbformat": 4,
 "nbformat_minor": 5
}
